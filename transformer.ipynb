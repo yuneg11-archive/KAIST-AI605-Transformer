{
  "cells": [
    {
      "cell_type": "markdown",
      "metadata": {
        "id": "ReonT_YasRSx"
      },
      "source": [
        "# KAIST AI605 Assignment 3: Transformer"
      ]
    },
    {
      "cell_type": "markdown",
      "metadata": {},
      "source": [
        "\n",
        "## Environment\n",
        "You will only use Python 3.7 and PyTorch 1.9, which is already available on Colab:"
      ]
    },
    {
      "cell_type": "code",
      "execution_count": null,
      "metadata": {
        "colab": {
          "base_uri": "https://localhost:8080/"
        },
        "id": "9qwta269rqLQ",
        "outputId": "d3ad4175-fc1c-44af-907e-eae9490bdeac"
      },
      "outputs": [
        {
          "name": "stdout",
          "output_type": "stream",
          "text": [
            "python 3.7.10\n",
            "torch 1.8.1+cu101\n"
          ]
        }
      ],
      "source": [
        "from platform import python_version\n",
        "import torch\n",
        "\n",
        "print(\"python\", python_version())\n",
        "print(\"torch\", torch.__version__)"
      ]
    },
    {
      "cell_type": "markdown",
      "metadata": {
        "id": "MTm5eq4NwQZs"
      },
      "source": [
        "## 1. Attention Layer\n",
        "\n",
        "We will first start with going over a few concepts that you learned in your high school statistics class.\n",
        "The variance of a random variable $X$, $\\text{Var}(X)$ is defined as $\\text{E}[(X-\\mu)^2]$ where $\\mu$ is the mean of $X$.\n",
        "Furthermore, given two independent random variables $X$ and $Y$ and a constant $a$,\n",
        "$$ \\text{Var}(X+Y) = \\text{Var}(X) + \\text{Var}(Y),$$\n",
        "$$ \\text{Var}(aX) = a^2\\text{Var}(X),$$\n",
        "$$ \\text{Var}(XY) = \\text{E}(X^2)\\text{E}(Y^2) - [\\text{E}(X)]^2[\\text{E}(Y)]^2.$$"
      ]
    },
    {
      "cell_type": "markdown",
      "metadata": {},
      "source": [
        "> **Problem 1.1** *(3 points)*\n",
        "  Suppose we are given two sets of $n$ random variables, $X_1 \\dots X_n$ and $Y_1 \\dots Y_n$,\n",
        "  where all of these $2n$ variables are mutually independent and have a mean of $0$ and a variance of $1$.\n",
        "  Prove that\n",
        "  $$\\text{Var}\\left(\\sum_i^n X_i Y_i\\right) = n.$$"
      ]
    },
    {
      "cell_type": "markdown",
      "metadata": {},
      "source": []
    },
    {
      "cell_type": "markdown",
      "metadata": {
        "id": "7KIelEM56jn_"
      },
      "source": [
        "In Lecture 11 and 12, we discussed how the attention is computed in Transformer via the following equation,\n",
        "  $$\\text{Attention}(Q, K, V) = \\text{softmax}\\left(\\frac{QK^\\top}{\\sqrt{d_k}}\\right)V.$$"
      ]
    },
    {
      "cell_type": "markdown",
      "metadata": {},
      "source": [
        "> **Problem 1.2** *(3 points)* \n",
        "  Suppose $Q$ and $K$ are matrices of independent variables each of which has a mean of $0$ and a variance of $1$.\n",
        "  Using what you learned from Problem 1.1., show that\n",
        "  $$\\text{Var}\\left(\\frac{QK^\\top}{\\sqrt{d_k}}\\right) = 1.$$"
      ]
    },
    {
      "cell_type": "markdown",
      "metadata": {},
      "source": []
    },
    {
      "cell_type": "markdown",
      "metadata": {
        "id": "DU3a3FEu6loq"
      },
      "source": [
        "> **Problem 1.3** *(4 points)*\n",
        "  What would happen if the assumption that the variance of $Q$ and $K$ is $1$ does not hold?\n",
        "  Consider each case of it being higher and lower than $1$ and conjecture what it implies, respectively."
      ]
    },
    {
      "cell_type": "markdown",
      "metadata": {},
      "source": []
    },
    {
      "cell_type": "markdown",
      "metadata": {
        "id": "afEcnAG8Q1Jo"
      },
      "source": [
        "## 2. Transformer\n",
        "\n",
        "In this section, you will implement Transformer for a few tasks that are simpler than machine translation.\n",
        "First, go through [Annotated Transformer](https://nlp.seas.harvard.edu/2018/04/03/attention.html) and make sure you understand every block of the code.\n",
        "Then, you will reuse these code where appropriate to create models for following three tasks.\n",
        "Note that we do not provide a separate training or evaluation data, so it is your job to be able to create these in a reasonable manner."
      ]
    },
    {
      "cell_type": "markdown",
      "metadata": {},
      "source": [
        "> **Problem 2.1** *(4 points)*\n",
        "  Create a model that takes a random set of input symbols from a vocabulary of digits (i.e. 0, 1, ... , 8, 9) as the input and generate back the same symbols.\n",
        "  Instead of varying length, we fix the length to 32.\n",
        "  Make sure to report that your model's accuracy (gives credit only if the entire output sequence is correct) goes above 90%.\n",
        "  Note that a similar problem is also in Annotated Transformer, and copying code is allowed."
      ]
    },
    {
      "cell_type": "code",
      "execution_count": null,
      "metadata": {},
      "outputs": [],
      "source": []
    },
    {
      "cell_type": "markdown",
      "metadata": {},
      "source": [
        "\n",
        "> **Problem 2.2** *(6 points)*\n",
        "  Now, we will implement a bit more useful function, so-called spelling error correction.\n",
        "  Your job is to create a model whose input is a word with spelling errors, and the output is the spelling-corrected word.\n",
        "  Here, your vocabulary will be character instead of word.\n",
        "  You can create your own training data by using an existing text corpus as the target and inject noise into it to use it as the input.\n",
        "  You are free to use whichever text corpus you like.\n",
        "  If you can't think of one, please use context data in SQuAD Dataset (see Assignment 2).\n",
        "  Report accuracy in your own evaluation data (you will receive full credit as long as both the evaluation data and the accuracy are reasonable),\n",
        "  and also show 5 examples where it succeeds at correcting spelling."
      ]
    },
    {
      "cell_type": "code",
      "execution_count": null,
      "metadata": {},
      "outputs": [],
      "source": []
    },
    {
      "cell_type": "markdown",
      "metadata": {},
      "source": [
        "> **Problem 2.3 (bonus)** *(3 points)*\n",
        "  Extend this word-level spelling correction model to sentence-level.\n",
        "  You do not have to report accuracy, but find 3 examples where the word-level model fails and sentence-level model correctly predicts."
      ]
    },
    {
      "cell_type": "code",
      "execution_count": null,
      "metadata": {},
      "outputs": [],
      "source": []
    }
  ],
  "metadata": {
    "kernelspec": {
      "display_name": "Python 3",
      "name": "python3"
    },
    "language_info": {
      "name": "python"
    }
  },
  "nbformat": 4,
  "nbformat_minor": 0
}
